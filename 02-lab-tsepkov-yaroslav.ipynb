{
 "cells": [
  {
   "cell_type": "code",
   "execution_count": 6,
   "metadata": {},
   "outputs": [
    {
     "data": {
      "text/plain": [
       "<matplotlib.image.AxesImage at 0x7efe61f54e20>"
      ]
     },
     "execution_count": 6,
     "metadata": {},
     "output_type": "execute_result"
    },
    {
     "data": {
      "image/png": "[encoded data removed]",
      "text/plain": [
       "<Figure size 432x288 with 1 Axes>"
      ]
     },
     "metadata": {
      "needs_background": "light"
     },
     "output_type": "display_data"
    }
   ],
   "source": [
    "import numpy as np\n",
    "import cv2\n",
    "import matplotlib.pyplot as plt\n",
    "from PIL import Image\n",
    "from helper import hist, sp_noise\n",
    "img = cv2.imread('img_in/basic_image.jpg', 0)\n",
    "\n",
    "noised = []\n",
    "probabilities = [0.01,0.02,0.05,0.1,0.2,0.5]\n",
    "\n",
    "for prob in probabilities:\n",
    "    img_noised = sp_noise(img, prob)\n",
    "    noised.append(img_noised)\n",
    "    img_noised.save(f'img_out/basic_image_noise_{prob*100}.jpg')\n",
    "\n",
    "\n",
    "\n",
    "# def dilatation(img, ker):\n",
    "#     length, width = img.shape[0], img.shape[1] \n",
    "#     temp = (len(ker)- 1)//2\n",
    "#     arr = np.zeros((length + 2*temp , width + 2*temp))\n",
    "#     arr[temp :length + temp, temp :width + temp]= img.copy()\n",
    "#     copy = img.copy()\n",
    "    \n",
    "#     for i in range(temp, length + temp):\n",
    "#         for j in range(temp, width + temp):\n",
    "#             copy[i-temp, j-temp] = np.sum(arr[i-temp: i+temp+1, j-temp: j+temp+1], where=ker)\n",
    "#             if copy[i-temp, j-temp] > 1:\n",
    "#                 copy[i-temp, j-temp ] = 255\n",
    "#             else:\n",
    "#                 copy[i-temp, j-temp ] = 0\n",
    "#     return copy\n",
    "\n",
    "\n",
    "# ker = np.array([[True for i in range(3)] for j in range(3)])\n",
    "\n",
    "# dilate = dilatation(img, ker)\n",
    "# print(np.unique(dilate))\n",
    "# cv2.imwrite('dilation_square.png', dilate)\n",
    "# plt.imshow(dilate)\n",
    "\n",
    "# ker = np.array([[False, True, False],[True, True, True],[False, True, False]])\n",
    "\n",
    "# dilate = dilatation(img, ker)\n",
    "# cv2.imwrite('dilation_square.png', dilate)\n",
    "# plt.imshow(dilate)\n",
    "\n",
    "\n",
    "# def op(img, ker):\n",
    "#     arr = erosion(img, ker)\n",
    "#     arr = dilatation(arr, ker)\n",
    "#     return arr\n",
    "\n",
    "# def cl(img, ker):\n",
    "#     arr = dilatation(img, ker)\n",
    "#     arr = erosion(arr, ker)\n",
    "#     return arr\n",
    "\n",
    "# def filter(image):\n",
    "#     res = image.copy()\n",
    "#     for i in range(1, image.shape[0] - 1):\n",
    "#         for j in range(1, image.shape[1] - 1):\n",
    "#             if image[i, j] == 0:\n",
    "#                 if image[i, j + 1] == 255 and image[i, j - 1] == 255 and image[i + 1, j] == 255 and image[i - 1, j] == 255:\n",
    "#                     res[i, j] = 255\n",
    "#             elif image[i, j] == 255:\n",
    "#                 if image[i, j + 1] == 0 and image[i, j - 1] == 0 and image[i + 1, j] == 0 and image[i - 1, j] == 0:\n",
    "#                     res[i, j] = 0\n",
    "#     return res\n",
    "\n",
    "# opens_square, opens_cross, closes_square, closes_cross = [], [], [], []\n",
    "\n",
    "# def CROSS(i):\n",
    "#     if i == 3:\n",
    "#         return np.array([[False, True, False],[True, True, True],[False, True, False]])\n",
    "#     else:\n",
    "#         return np.array([[False, False, True, False, False],[False,False,True,False,False],\n",
    "#                          [True, True,True, True, True],[False, False, True, False, False],\n",
    "#                          [False, False, True, False, False]])\n",
    "    \n",
    "# for key, noise in enumerate(noised):\n",
    "#     for i in range(3, 6, 2):\n",
    "#         opening = op(noise, np.ones((i,i),np.bool))\n",
    "#         cv2.imwrite('open_and_close/open_square'+ str(key) + '_' + str(int(i)) + '.png', opening)\n",
    "#         opens_square.append(opening)\n",
    "        \n",
    "#         closing = cl(noise, np.ones((i,i),np.bool))\n",
    "#         cv2.imwrite('open_and_close/close_square' +str(key) + '_'+ str(int(i)) + '.png', closing)\n",
    "#         closes_square.append(closing)\n",
    "        \n",
    "#         opening = op(noise, CROSS(i))\n",
    "#         cv2.imwrite('open_and_close/open_cross' + str(key) + '_' + str(int(i)) + '.png', opening)   \n",
    "#         opens_cross.append(opening)\n",
    "        \n",
    "#         closing = cl(noise, CROSS(i))\n",
    "#         cv2.imwrite('open_and_close/close_cross' + str(key) + '_' + str(int(i)) + '.png', closing)\n",
    "#         closes_cross.append(closing)\n",
    "\n",
    "#         filt = filter(noise)\n",
    "#         cv2.imwrite('open_and_close/filter' +  str(key) + '.png', filt)\n",
    "\n",
    "# def coef(image, filter_image, noised_image):\n",
    "#     all_noises = 0\n",
    "#     after_filter = 0\n",
    "#     for i in range(image.shape[0]):\n",
    "#         for j in range(image.shape[1]):\n",
    "#             if image[i, j] != noised_image[i, j]:\n",
    "#                 all_noises += 1\n",
    "#             if image[i, j] != filter_image[i, j]:\n",
    "#                 after_filter += 1\n",
    "#     return after_filter/all_noises\n",
    "\n",
    "# print('coef')\n",
    "\n",
    "# def coeff(img, arr, s):\n",
    "#     for i in range(2):\n",
    "#         if i == 1:\n",
    "#             print(s, 5)\n",
    "#         else:\n",
    "#             print(s, 3)\n",
    "#         print(\"шум 1%:\", coef(img, arr[i], noised[0]))\n",
    "#         print(\"шум 2%:\", coef(img, arr[2 + i], noised[1]))\n",
    "#         print(\"шум 5%:\", coef(img, arr[4 + i], noised[2]))\n",
    "#         print(\"шум 10%:\", coef(img, arr[6 + i], noised[3]))\n",
    "#         print(\"шум 20%:\", coef(img, arr[8 + i], noised[4]))\n",
    "#         print(\"шум 50%:\", coef(img, arr[10 + i], noised[5]))\n",
    "    \n",
    "# coeff(img, opens_square, 'Открытие: квадрат размером')\n",
    "# print(' ')\n",
    "# coeff(img, closes_square, 'Закрытие: квадрат размером')\n",
    "# print(' ')\n",
    "# coeff(img, opens_cross, 'Открытие: крест размером')\n",
    "# print(' ')\n",
    "# coeff(img, closes_cross, 'Закрытие: крест размером')\n",
    "\n",
    "\n",
    "# def contours(image, erod_image):\n",
    "#     res = image.copy()\n",
    "#     for i in range(res.shape[0]):\n",
    "#         for j in range(res.shape[1]):\n",
    "#             res[i, j] = image[i, j] ^ erod_image[i, j]\n",
    "#     return res\n",
    "\n",
    "# erod_image = cv2.erode(img,cv2.getStructuringElement(cv2.MORPH_CROSS,(3, 3)))\n",
    "# res = contours(img, erod_image)\n",
    "# cv2.imwrite('erosion_contours_cross.png', res)\n",
    "# plt.imshow(res)\n",
    "\n",
    "# dilate_image = cv2.dilate(img,cv2.getStructuringElement(cv2.MORPH_CROSS,(3, 3)))\n",
    "# res = contours(img, dilate_image)\n",
    "# cv2.imwrite('dilate_contours_cross.png', res)\n",
    "# plt.imshow(res)\n",
    "\n",
    "\n",
    "# dilate_image = cv2.dilate(img,np.ones((5,5),np.uint8))\n",
    "# res = contours(img, dilate_image)\n",
    "# cv2.imwrite('dilate_contours_square.png', res)\n",
    "# plt.imshow(res)\n",
    "\n",
    "\n",
    "# erosion_image = cv2.erode(img,np.ones((5,5),np.uint8))\n",
    "# res = contours(img, erosion_image)\n",
    "# cv2.imwrite('erosion_contours_square.png', res)\n",
    "# plt.imshow(res)\n",
    "\n",
    "# def horizont(image, size):\n",
    "#     mask = np.zeros((size, size))\n",
    "#     center = size // 2\n",
    "#     for i in range(size):\n",
    "#         mask[i, center] = 1\n",
    "        \n",
    "#     mask = np.array(mask, np.uint8)\n",
    "#     erod_image = cv2.erode(image, mask)  \n",
    "#     res = contours(image, erod_image)\n",
    "#     return res\n",
    "\n",
    "# def vertical(image, size):\n",
    "#     mask = np.zeros((size, size))\n",
    "#     center = size // 2\n",
    "#     for i in range(size):\n",
    "#         mask[center, i] = 1\n",
    "    \n",
    "#     mask = np.array(mask, np.uint8)\n",
    "#     erod_image = cv2.erode(image, mask)  \n",
    "#     res = contours(image, erod_image)\n",
    "#     return res"
   ]
  },
  {
   "cell_type": "code",
   "execution_count": 9,
   "metadata": {},
   "outputs": [],
   "source": [
    "def erosion(img, ker):\n",
    "    length, width = img.shape[0], img.shape[1] \n",
    "    temp = len(ker)//2\n",
    "    arr = np.zeros((length + 2*temp , width + 2*temp))\n",
    "    arr[temp :length + temp, temp :width + temp]= img.copy()\n",
    "    copy = img.copy()\n",
    "    \n",
    "    for i in range(temp, length + temp):\n",
    "        for j in range(temp, width + temp):\n",
    "            copy[i-temp, j-temp] = np.prod(arr[i-temp :i+temp+1, j-temp :j+temp+1], where=ker, dtype=np.int64)\n",
    "            if copy[i-temp, j-temp] > 1:\n",
    "                copy[i-temp, j-temp ] = 255\n",
    "            else:\n",
    "                copy[i-temp, j-temp ] = 0\n",
    "    return copy\n",
    "\n",
    "def dilatation(img, ker):\n",
    "    length, width = img.shape[0], img.shape[1] \n",
    "    temp = (len(ker)- 1)//2\n",
    "    arr = np.zeros((length + 2*temp , width + 2*temp))\n",
    "    arr[temp :length + temp, temp :width + temp]= img.copy()\n",
    "    copy = img.copy()\n",
    "    \n",
    "    for i in range(temp, length + temp):\n",
    "        for j in range(temp, width + temp):\n",
    "            copy[i-temp, j-temp] = np.sum(arr[i-temp: i+temp+1, j-temp: j+temp+1], where=ker)\n",
    "            if copy[i-temp, j-temp] > 1:\n",
    "                copy[i-temp, j-temp ] = 255\n",
    "            else:\n",
    "                copy[i-temp, j-temp ] = 0\n",
    "    return copy\n",
    "def op(img, ker):\n",
    "    arr = erosion(img, ker)\n",
    "    arr = dilatation(arr, ker)\n",
    "    return arr\n",
    "\n",
    "def cl(img, ker):\n",
    "    arr = dilatation(img, ker)\n",
    "    arr = erosion(arr, ker)\n",
    "    return arr\n",
    "\n",
    "def filter(image):\n",
    "    res = image.copy()\n",
    "    for i in range(1, image.shape[0] - 1):\n",
    "        for j in range(1, image.shape[1] - 1):\n",
    "            if image[i, j] == 0:\n",
    "                if image[i, j + 1] == 255 and image[i, j - 1] == 255 and image[i + 1, j] == 255 and image[i - 1, j] == 255:\n",
    "                    res[i, j] = 255\n",
    "            elif image[i, j] == 255:\n",
    "                if image[i, j + 1] == 0 and image[i, j - 1] == 0 and image[i + 1, j] == 0 and image[i - 1, j] == 0:\n",
    "                    res[i, j] = 0\n",
    "    return res\n"
   ]
  },
  {
   "cell_type": "code",
   "execution_count": 11,
   "metadata": {},
   "outputs": [],
   "source": [
    "ker_square = np.array([[1]*3]*3).astype(bool)\n",
    "ker_cross = np.array([[0,1,0],[1,1,1],[0,1,0]]).astype(bool)"
   ]
  },
  {
   "cell_type": "code",
   "execution_count": 13,
   "metadata": {},
   "outputs": [
    {
     "data": {
      "text/plain": [
       "<matplotlib.image.AxesImage at 0x7efe6265f640>"
      ]
     },
     "execution_count": 13,
     "metadata": {},
     "output_type": "execute_result"
    },
    {
     "data": {
      "image/png": "[encoded data removed]",
      "text/plain": [
       "<Figure size 432x288 with 1 Axes>"
      ]
     },
     "metadata": {
      "needs_background": "light"
     },
     "output_type": "display_data"
    }
   ],
   "source": [
    "eros = erosion(img, ker_square)\n",
    "plt.imshow(eros, cmap='gray')"
   ]
  },
  {
   "cell_type": "code",
   "execution_count": 14,
   "metadata": {},
   "outputs": [
    {
     "data": {
      "text/plain": [
       "<matplotlib.image.AxesImage at 0x7efe629071f0>"
      ]
     },
     "execution_count": 14,
     "metadata": {},
     "output_type": "execute_result"
    },
    {
     "data": {
      "image/png": "[encoded data removed]",
      "text/plain": [
       "<Figure size 432x288 with 1 Axes>"
      ]
     },
     "metadata": {
      "needs_background": "light"
     },
     "output_type": "display_data"
    }
   ],
   "source": [
    "eros = erosion(img, ker_cross)\n",
    "plt.imshow(eros, cmap='gray')"
   ]
  },
  {
   "cell_type": "code",
   "execution_count": null,
   "metadata": {},
   "outputs": [],
   "source": []
  }
 ],
 "metadata": {
  "kernelspec": {
   "display_name": "Python 3",
   "language": "python",
   "name": "python3"
  },
  "language_info": {
   "codemirror_mode": {
    "name": "ipython",
    "version": 3
   },
   "file_extension": ".py",
   "mimetype": "text/x-python",
   "name": "python",
   "nbconvert_exporter": "python",
   "pygments_lexer": "ipython3",
   "version": "3.8.5"
  }
 },
 "nbformat": 4,
 "nbformat_minor": 4
}
